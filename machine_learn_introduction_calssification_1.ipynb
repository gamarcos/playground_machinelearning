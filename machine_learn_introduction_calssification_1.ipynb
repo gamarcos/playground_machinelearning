{
  "nbformat": 4,
  "nbformat_minor": 0,
  "metadata": {
    "colab": {
      "name": "machine learn introduction calssification - 1.ipynb",
      "provenance": [],
      "authorship_tag": "ABX9TyOva8mt+dzs9hTmPJWzD2jH",
      "include_colab_link": true
    },
    "kernelspec": {
      "name": "python3",
      "display_name": "Python 3"
    }
  },
  "cells": [
    {
      "cell_type": "markdown",
      "metadata": {
        "id": "view-in-github",
        "colab_type": "text"
      },
      "source": [
        "<a href=\"https://colab.research.google.com/github/gamarcos/playground_machinelearning/blob/main/machine_learn_introduction_calssification_1.ipynb\" target=\"_parent\"><img src=\"https://colab.research.google.com/assets/colab-badge.svg\" alt=\"Open In Colab\"/></a>"
      ]
    },
    {
      "cell_type": "code",
      "metadata": {
        "id": "9TwE-N7Umc2m"
      },
      "source": [
        "#feature (1 yes, 0 no)\n",
        "#long hair\n",
        "#short leg\n",
        "#say auau?\n",
        "pig1 = [0,1,0]\n",
        "pig2 = [0,1,1]\n",
        "pig3 = [1,1,0]\n",
        "\n",
        "\n",
        "dog1 = [0,1,1]\n",
        "dog2 = [1,0,1]\n",
        "dog3 = [1,1,1]\n",
        "\n",
        "#1 => pig, 0 => dog\n",
        "train_x = [pig1, pig2, pig3, dog1, dog2, dog3]\n",
        "train_y = [1,1,1,0,0,0]"
      ],
      "execution_count": null,
      "outputs": []
    },
    {
      "cell_type": "code",
      "metadata": {
        "colab": {
          "base_uri": "https://localhost:8080/"
        },
        "id": "i52WYZyFw0K7",
        "outputId": "a86db0e8-fd29-4ba7-d418-45b602cfad6d"
      },
      "source": [
        "from sklearn.svm import LinearSVC\n",
        "\n",
        "model = LinearSVC()\n",
        "\n",
        "model.fit(train_x, train_y)"
      ],
      "execution_count": null,
      "outputs": [
        {
          "output_type": "execute_result",
          "data": {
            "text/plain": [
              "LinearSVC(C=1.0, class_weight=None, dual=True, fit_intercept=True,\n",
              "          intercept_scaling=1, loss='squared_hinge', max_iter=1000,\n",
              "          multi_class='ovr', penalty='l2', random_state=None, tol=0.0001,\n",
              "          verbose=0)"
            ]
          },
          "metadata": {
            "tags": []
          },
          "execution_count": 10
        }
      ]
    },
    {
      "cell_type": "code",
      "metadata": {
        "colab": {
          "base_uri": "https://localhost:8080/"
        },
        "id": "TR85v_Clxu7o",
        "outputId": "11ddf1c8-2783-4a01-d199-4ccdd0335a51"
      },
      "source": [
        "misterious_animal = [1,1,1]\n",
        "model.predict([misterious_animal])"
      ],
      "execution_count": null,
      "outputs": [
        {
          "output_type": "execute_result",
          "data": {
            "text/plain": [
              "array([0])"
            ]
          },
          "metadata": {
            "tags": []
          },
          "execution_count": 11
        }
      ]
    },
    {
      "cell_type": "code",
      "metadata": {
        "id": "Bo0szfrbx6hU"
      },
      "source": [
        "mistery1 = [1,1,1]\n",
        "mistery2 = [1,1,0]\n",
        "mistery3 = [0,1,1]\n",
        "\n",
        "test_x = [mistery1, mistery2, mistery3]\n",
        "test_y = [0, 1, 1]\n"
      ],
      "execution_count": null,
      "outputs": []
    },
    {
      "cell_type": "code",
      "metadata": {
        "id": "pP-nfY4cy2WP"
      },
      "source": [
        "previsions = model.predict(test_x)"
      ],
      "execution_count": null,
      "outputs": []
    },
    {
      "cell_type": "code",
      "metadata": {
        "colab": {
          "base_uri": "https://localhost:8080/"
        },
        "id": "aalapAF0ytlu",
        "outputId": "3339211b-167e-4764-cf61-33e506e781b1"
      },
      "source": [
        "corrects = (previsions == test_y).sum()\n",
        "total = len(test_x)\n",
        "accuracy = corrects/total\n",
        "print(\"Accerts in percent is: %.2f\"%(accuracy*100))"
      ],
      "execution_count": null,
      "outputs": [
        {
          "output_type": "stream",
          "text": [
            "Accerts in percent is: 66.67\n"
          ],
          "name": "stdout"
        }
      ]
    },
    {
      "cell_type": "code",
      "metadata": {
        "id": "4sLnk12_zGoF"
      },
      "source": [
        "from sklearn.metrics import accuracy_score"
      ],
      "execution_count": null,
      "outputs": []
    },
    {
      "cell_type": "code",
      "metadata": {
        "colab": {
          "base_uri": "https://localhost:8080/"
        },
        "id": "pz7jQ3mmz59b",
        "outputId": "5ce5e21f-f167-4d78-cea1-643c4f588e0a"
      },
      "source": [
        "accuracy_tax = accuracy_score(test_y, previsions)\n",
        "print(\"Accurary in percent is: %.2f\"%(accuracy_tax*100))"
      ],
      "execution_count": null,
      "outputs": [
        {
          "output_type": "stream",
          "text": [
            "Accurary in percent is: 66.67\n"
          ],
          "name": "stdout"
        }
      ]
    },
    {
      "cell_type": "code",
      "metadata": {
        "id": "B4CO4Kg_0Qux"
      },
      "source": [
        ""
      ],
      "execution_count": null,
      "outputs": []
    }
  ]
}